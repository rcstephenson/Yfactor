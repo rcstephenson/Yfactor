{
 "cells": [
  {
   "cell_type": "code",
   "execution_count": 10,
   "id": "involved-boating",
   "metadata": {},
   "outputs": [],
   "source": [
    "import numpy as np\n",
    "import matplotlib.pyplot as plt \n",
    "from scipy.constants import pi, k, c"
   ]
  },
  {
   "cell_type": "markdown",
   "id": "understood-camera",
   "metadata": {},
   "source": [
    "# Function Calculations"
   ]
  },
  {
   "cell_type": "code",
   "execution_count": 28,
   "id": "charged-canadian",
   "metadata": {},
   "outputs": [],
   "source": [
    "def Yfactor(P_c_dBm,P_h_dBm,T_c_K,T_h_K):\n",
    "    Y=10**((P_h_dBm-P_c_dBm)/10)\n",
    "    T_sys = (T_h_K - T_c_K * Y)/(Y-1)\n",
    "    return T_sys\n",
    "\n",
    "def T_dut_corr(T_sys_K, T_recv_K=0, G_dut_dB=0):\n",
    "    T_dut = T_sys_K - T_recv_K/10**(G_dut_dB/10) \n",
    "    return T_dut\n",
    "\n",
    "dB2W = lambda PdB : 10**(PdB/10)\n",
    "W2dB = lambda PW  : 10*np.log10(PW) "
   ]
  },
  {
   "cell_type": "markdown",
   "id": "improving-physiology",
   "metadata": {},
   "source": [
    "# User Parameters"
   ]
  },
  {
   "cell_type": "code",
   "execution_count": 31,
   "id": "sufficient-pharmacology",
   "metadata": {},
   "outputs": [],
   "source": [
    "# RF System Chain (- DUT)\n",
    "G_dut = dB2W(30)\n",
    "T_recv = 0 # may need Y-Factor here if unkown # zero to bypass"
   ]
  },
  {
   "cell_type": "code",
   "execution_count": 23,
   "id": "incorporate-livestock",
   "metadata": {},
   "outputs": [
    {
     "name": "stdout",
     "output_type": "stream",
     "text": [
      "6.03E+00\n"
     ]
    }
   ],
   "source": [
    "# ENR\n",
    "ENR = (6.05 + 6.01)/2\n",
    "print(f\"{ENR:.2E}\")"
   ]
  },
  {
   "cell_type": "code",
   "execution_count": 13,
   "id": "clean-device",
   "metadata": {},
   "outputs": [],
   "source": [
    "# Load Temperatures\n",
    "T_h=290*(dB2W(ENR)+1)\n",
    "T_c=290"
   ]
  },
  {
   "cell_type": "code",
   "execution_count": 14,
   "id": "common-drain",
   "metadata": {},
   "outputs": [],
   "source": [
    "# Power Measurments\n",
    "P_c= -85.79  # [dBm]\n",
    "P_h= -81.22  # [dBm]"
   ]
  },
  {
   "cell_type": "code",
   "execution_count": 41,
   "id": "average-jacob",
   "metadata": {},
   "outputs": [
    {
     "name": "stdout",
     "output_type": "stream",
     "text": [
      "\n",
      "--------------------------------------\n",
      "Reciever Temperature |   0.00 [K]\n",
      "System Temperature   | 333.61 [K]\n",
      "Device Temperature   | 333.61 [K]\n",
      "--------------------------------------\n",
      "\n"
     ]
    }
   ],
   "source": [
    "T_sys=Yfactor(P_c, P_h, T_c, T_h)\n",
    "T_dut=T_dut_corr(T_sys, T_recv)\n",
    "print(f\"\"\"\n",
    "--------------------------------------\n",
    "Reciever Temperature | {T_recv:6.2f} [K]\n",
    "System Temperature   | {T_sys:6.2f} [K]\n",
    "Device Temperature   | {T_dut:6.2f} [K]\n",
    "--------------------------------------\n",
    "\"\"\")"
   ]
  },
  {
   "cell_type": "code",
   "execution_count": null,
   "id": "lasting-participant",
   "metadata": {},
   "outputs": [],
   "source": []
  }
 ],
 "metadata": {
  "kernelspec": {
   "display_name": "Python 3",
   "language": "python",
   "name": "python3"
  },
  "language_info": {
   "codemirror_mode": {
    "name": "ipython",
    "version": 3
   },
   "file_extension": ".py",
   "mimetype": "text/x-python",
   "name": "python",
   "nbconvert_exporter": "python",
   "pygments_lexer": "ipython3",
   "version": "3.8.5"
  }
 },
 "nbformat": 4,
 "nbformat_minor": 5
}